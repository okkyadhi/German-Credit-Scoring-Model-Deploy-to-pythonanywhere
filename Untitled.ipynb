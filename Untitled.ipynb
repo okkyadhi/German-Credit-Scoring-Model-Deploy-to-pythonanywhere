{
 "cells": [
  {
   "cell_type": "markdown",
   "metadata": {},
   "source": [
    "# German Credit Score"
   ]
  },
  {
   "cell_type": "code",
   "execution_count": 129,
   "metadata": {},
   "outputs": [],
   "source": [
    "import pandas as pd\n",
    "import sklearn.preprocessing as preprocessing\n",
    "import numpy  as np\n",
    "from sklearn.linear_model import LogisticRegression\n",
    "from sklearn.preprocessing import OneHotEncoder\n",
    "from sklearn.model_selection import train_test_split\n",
    "from sklearn.metrics import auc, confusion_matrix\n",
    "from sklearn import metrics\n",
    "from lightgbm import LGBMClassifier as lgb\n",
    "from sklearn.model_selection import GridSearchCV\n",
    "from sklearn import datasets\n",
    "from lightgbm import Dataset"
   ]
  },
  {
   "cell_type": "code",
   "execution_count": 130,
   "metadata": {},
   "outputs": [],
   "source": [
    "df_raw = pd.read_csv('german_credit.csv')"
   ]
  },
  {
   "cell_type": "code",
   "execution_count": 131,
   "metadata": {},
   "outputs": [],
   "source": [
    "def age_group(age):\n",
    "    if age < 20:\n",
    "        return 'Teenager'\n",
    "    if age < 35:\n",
    "        return 'Productive'\n",
    "    if age < 50:\n",
    "        return 'Mature'\n",
    "    else :\n",
    "         return 'Old'"
   ]
  },
  {
   "cell_type": "code",
   "execution_count": 132,
   "metadata": {},
   "outputs": [],
   "source": [
    "df_raw['credit_per_person'] = df_raw['credit_amount']/df_raw['people_under_maintenance']\n",
    "df_raw['age_group'] = df_raw['age'].apply(age_group)"
   ]
  },
  {
   "cell_type": "code",
   "execution_count": 133,
   "metadata": {},
   "outputs": [],
   "source": [
    "# Create x, where x the 'scores' column's values as floats\n",
    "x = df_raw[['credit_amount']].values.astype(float)\n",
    "\n",
    "# Create a minimum and maximum processor object\n",
    "min_max_scaler = preprocessing.MinMaxScaler()\n",
    "\n",
    "# Create an object to transform the data to fit minmax processor\n",
    "x_scaled = min_max_scaler.fit_transform(x)\n",
    "\n",
    "# Run the normalizer on the dataframe\n",
    "df_raw['credit_amount_norm'] = pd.DataFrame(x_scaled)\n",
    "df_raw['age_norm']= pd.DataFrame(min_max_scaler.fit_transform(df_raw[['age']].values.astype(float)))\n",
    "df_raw['duration_in_month']= pd.DataFrame(min_max_scaler.fit_transform(df_raw[['duration_in_month']].values.astype(float)))"
   ]
  },
  {
   "cell_type": "code",
   "execution_count": 134,
   "metadata": {},
   "outputs": [
    {
     "data": {
      "text/plain": [
       "0    0.050567\n",
       "1    0.313690\n",
       "Name: credit_amount_norm, dtype: float64"
      ]
     },
     "execution_count": 134,
     "metadata": {},
     "output_type": "execute_result"
    }
   ],
   "source": [
    "df_raw['credit_amount_norm'].head(2)"
   ]
  },
  {
   "cell_type": "code",
   "execution_count": 135,
   "metadata": {},
   "outputs": [],
   "source": [
    "numeric_data = df.select_dtypes(include=[np.number]).columns"
   ]
  },
  {
   "cell_type": "code",
   "execution_count": 136,
   "metadata": {},
   "outputs": [
    {
     "data": {
      "text/html": [
       "<div>\n",
       "<style scoped>\n",
       "    .dataframe tbody tr th:only-of-type {\n",
       "        vertical-align: middle;\n",
       "    }\n",
       "\n",
       "    .dataframe tbody tr th {\n",
       "        vertical-align: top;\n",
       "    }\n",
       "\n",
       "    .dataframe thead th {\n",
       "        text-align: right;\n",
       "    }\n",
       "</style>\n",
       "<table border=\"1\" class=\"dataframe\">\n",
       "  <thead>\n",
       "    <tr style=\"text-align: right;\">\n",
       "      <th></th>\n",
       "      <th>default</th>\n",
       "      <th>duration_in_month</th>\n",
       "      <th>credit_amount</th>\n",
       "      <th>installment_as_income_perc</th>\n",
       "      <th>present_res_since</th>\n",
       "      <th>age</th>\n",
       "      <th>credits_this_bank</th>\n",
       "      <th>people_under_maintenance</th>\n",
       "    </tr>\n",
       "  </thead>\n",
       "  <tbody>\n",
       "    <tr>\n",
       "      <th>0</th>\n",
       "      <td>0</td>\n",
       "      <td>0.029412</td>\n",
       "      <td>1169</td>\n",
       "      <td>4</td>\n",
       "      <td>4</td>\n",
       "      <td>67</td>\n",
       "      <td>2</td>\n",
       "      <td>1</td>\n",
       "    </tr>\n",
       "    <tr>\n",
       "      <th>1</th>\n",
       "      <td>1</td>\n",
       "      <td>0.647059</td>\n",
       "      <td>5951</td>\n",
       "      <td>2</td>\n",
       "      <td>2</td>\n",
       "      <td>22</td>\n",
       "      <td>1</td>\n",
       "      <td>1</td>\n",
       "    </tr>\n",
       "    <tr>\n",
       "      <th>2</th>\n",
       "      <td>0</td>\n",
       "      <td>0.117647</td>\n",
       "      <td>2096</td>\n",
       "      <td>2</td>\n",
       "      <td>3</td>\n",
       "      <td>49</td>\n",
       "      <td>1</td>\n",
       "      <td>2</td>\n",
       "    </tr>\n",
       "    <tr>\n",
       "      <th>3</th>\n",
       "      <td>0</td>\n",
       "      <td>0.558824</td>\n",
       "      <td>7882</td>\n",
       "      <td>2</td>\n",
       "      <td>4</td>\n",
       "      <td>45</td>\n",
       "      <td>1</td>\n",
       "      <td>2</td>\n",
       "    </tr>\n",
       "    <tr>\n",
       "      <th>4</th>\n",
       "      <td>1</td>\n",
       "      <td>0.294118</td>\n",
       "      <td>4870</td>\n",
       "      <td>3</td>\n",
       "      <td>4</td>\n",
       "      <td>53</td>\n",
       "      <td>2</td>\n",
       "      <td>2</td>\n",
       "    </tr>\n",
       "  </tbody>\n",
       "</table>\n",
       "</div>"
      ],
      "text/plain": [
       "   default  duration_in_month  credit_amount  installment_as_income_perc  \\\n",
       "0        0           0.029412           1169                           4   \n",
       "1        1           0.647059           5951                           2   \n",
       "2        0           0.117647           2096                           2   \n",
       "3        0           0.558824           7882                           2   \n",
       "4        1           0.294118           4870                           3   \n",
       "\n",
       "   present_res_since  age  credits_this_bank  people_under_maintenance  \n",
       "0                  4   67                  2                         1  \n",
       "1                  2   22                  1                         1  \n",
       "2                  3   49                  1                         2  \n",
       "3                  4   45                  1                         2  \n",
       "4                  4   53                  2                         2  "
      ]
     },
     "execution_count": 136,
     "metadata": {},
     "output_type": "execute_result"
    }
   ],
   "source": [
    "df_raw[numeric_data].head()"
   ]
  },
  {
   "cell_type": "code",
   "execution_count": 221,
   "metadata": {},
   "outputs": [],
   "source": [
    "df_prepare = df_raw\n",
    "\n",
    "target = df_prepare['default']\n",
    "temp = df_prepare.drop(['default','credit_amount','age','installment_as_income_perc','personal_status_sex','telephone'],axis=1)"
   ]
  },
  {
   "cell_type": "code",
   "execution_count": 222,
   "metadata": {},
   "outputs": [],
   "source": [
    "dataset_dummies = temp.select_dtypes(exclude=['int','int64','float64'])\n",
    "dataset_int = temp.select_dtypes(include = ['int','int64','float64'] )\n",
    "\n",
    "\n",
    "dataset_dummies_2 = pd.get_dummies(dataset_dummies, drop_first=True)\n",
    "df_model = pd.concat([dataset_int,dataset_dummies_2,target], axis = 1 )\n",
    "\n",
    "x = df_model.iloc[:,0:len(df_model.columns)-1]\n",
    "y = df_model.iloc[:,len(df_model.columns)-1]\n",
    "\n",
    "\n",
    "x_train, x_test, y_train, y_test = train_test_split(x,y,test_size=0.25, random_state = 42,stratify=y)\n",
    "\n"
   ]
  },
  {
   "cell_type": "code",
   "execution_count": 223,
   "metadata": {},
   "outputs": [],
   "source": [
    "# Logistic_regression = LogisticRegression()\n",
    "# Logistic_regression.fit(x_train,y_train)\n",
    "\n",
    "# y_pred_train = Logistic_regression.predict(x_train)\n",
    "# y_pred_test = Logistic_regression.predict(x_test)\n"
   ]
  },
  {
   "cell_type": "code",
   "execution_count": 224,
   "metadata": {},
   "outputs": [],
   "source": [
    "# fpr_train, tpr_train, threshold = metrics.roc_curve(y_train,y_pred_train)\n",
    "# fpr_test, tpr_test, threshold = metrics.roc_curve(y_test,y_pred_test)"
   ]
  },
  {
   "cell_type": "code",
   "execution_count": 225,
   "metadata": {},
   "outputs": [],
   "source": [
    "# print('AUC train = {} '.format(metrics.auc(fpr_train,tpr_train)))\n",
    "# print('AUC train = {} '.format(metrics.auc(fpr_test,tpr_test)))"
   ]
  },
  {
   "cell_type": "code",
   "execution_count": 226,
   "metadata": {},
   "outputs": [],
   "source": [
    "import lightgbm as lgb"
   ]
  },
  {
   "cell_type": "code",
   "execution_count": 227,
   "metadata": {
    "collapsed": true
   },
   "outputs": [
    {
     "name": "stdout",
     "output_type": "stream",
     "text": [
      "[1]\tvalid_0's auc: 0.729105\n",
      "Training until validation scores don't improve for 100 rounds\n",
      "[2]\tvalid_0's auc: 0.747429\n",
      "[3]\tvalid_0's auc: 0.755581\n",
      "[4]\tvalid_0's auc: 0.757371\n",
      "[5]\tvalid_0's auc: 0.759543\n",
      "[6]\tvalid_0's auc: 0.763695\n",
      "[7]\tvalid_0's auc: 0.758705\n",
      "[8]\tvalid_0's auc: 0.76819\n",
      "[9]\tvalid_0's auc: 0.771695\n",
      "[10]\tvalid_0's auc: 0.774743\n",
      "[11]\tvalid_0's auc: 0.770476\n",
      "[12]\tvalid_0's auc: 0.77021\n",
      "[13]\tvalid_0's auc: 0.771505\n",
      "[14]\tvalid_0's auc: 0.773638\n",
      "[15]\tvalid_0's auc: 0.773486\n",
      "[16]\tvalid_0's auc: 0.776914\n",
      "[17]\tvalid_0's auc: 0.779733\n",
      "[18]\tvalid_0's auc: 0.779429\n",
      "[19]\tvalid_0's auc: 0.778819\n",
      "[20]\tvalid_0's auc: 0.779352\n",
      "[21]\tvalid_0's auc: 0.782857\n",
      "[22]\tvalid_0's auc: 0.784457\n",
      "[23]\tvalid_0's auc: 0.787048\n",
      "[24]\tvalid_0's auc: 0.787886\n",
      "[25]\tvalid_0's auc: 0.786514\n",
      "[26]\tvalid_0's auc: 0.784152\n",
      "[27]\tvalid_0's auc: 0.785371\n",
      "[28]\tvalid_0's auc: 0.786362\n",
      "[29]\tvalid_0's auc: 0.783924\n",
      "[30]\tvalid_0's auc: 0.785295\n",
      "[31]\tvalid_0's auc: 0.785067\n",
      "[32]\tvalid_0's auc: 0.786133\n",
      "[33]\tvalid_0's auc: 0.787886\n",
      "[34]\tvalid_0's auc: 0.786895\n",
      "[35]\tvalid_0's auc: 0.78659\n",
      "[36]\tvalid_0's auc: 0.787581\n",
      "[37]\tvalid_0's auc: 0.787429\n",
      "[38]\tvalid_0's auc: 0.789867\n",
      "[39]\tvalid_0's auc: 0.788267\n",
      "[40]\tvalid_0's auc: 0.7872\n",
      "[41]\tvalid_0's auc: 0.790705\n",
      "[42]\tvalid_0's auc: 0.794743\n",
      "[43]\tvalid_0's auc: 0.79581\n",
      "[44]\tvalid_0's auc: 0.796419\n",
      "[45]\tvalid_0's auc: 0.7984\n",
      "[46]\tvalid_0's auc: 0.799848\n",
      "[47]\tvalid_0's auc: 0.801981\n",
      "[48]\tvalid_0's auc: 0.802362\n",
      "[49]\tvalid_0's auc: 0.803581\n",
      "[50]\tvalid_0's auc: 0.803276\n",
      "[51]\tvalid_0's auc: 0.804495\n",
      "[52]\tvalid_0's auc: 0.802895\n",
      "[53]\tvalid_0's auc: 0.805181\n",
      "[54]\tvalid_0's auc: 0.809067\n",
      "[55]\tvalid_0's auc: 0.808762\n",
      "[56]\tvalid_0's auc: 0.807543\n",
      "[57]\tvalid_0's auc: 0.809143\n",
      "[58]\tvalid_0's auc: 0.809448\n",
      "[59]\tvalid_0's auc: 0.810286\n",
      "[60]\tvalid_0's auc: 0.810286\n",
      "[61]\tvalid_0's auc: 0.811048\n",
      "[62]\tvalid_0's auc: 0.810362\n",
      "[63]\tvalid_0's auc: 0.80899\n",
      "[64]\tvalid_0's auc: 0.808305\n",
      "[65]\tvalid_0's auc: 0.806705\n",
      "[66]\tvalid_0's auc: 0.8032\n",
      "[67]\tvalid_0's auc: 0.8032\n",
      "[68]\tvalid_0's auc: 0.802895\n",
      "[69]\tvalid_0's auc: 0.801067\n",
      "[70]\tvalid_0's auc: 0.798629\n",
      "[71]\tvalid_0's auc: 0.798095\n",
      "[72]\tvalid_0's auc: 0.797333\n",
      "[73]\tvalid_0's auc: 0.797333\n",
      "[74]\tvalid_0's auc: 0.79619\n",
      "[75]\tvalid_0's auc: 0.795657\n",
      "[76]\tvalid_0's auc: 0.796495\n",
      "[77]\tvalid_0's auc: 0.797181\n",
      "[78]\tvalid_0's auc: 0.797029\n",
      "[79]\tvalid_0's auc: 0.796038\n",
      "[80]\tvalid_0's auc: 0.7968\n",
      "[81]\tvalid_0's auc: 0.797486\n",
      "[82]\tvalid_0's auc: 0.799238\n",
      "[83]\tvalid_0's auc: 0.799086\n",
      "[84]\tvalid_0's auc: 0.798552\n",
      "[85]\tvalid_0's auc: 0.799314\n",
      "[86]\tvalid_0's auc: 0.797333\n",
      "[87]\tvalid_0's auc: 0.798476\n",
      "[88]\tvalid_0's auc: 0.79939\n",
      "[89]\tvalid_0's auc: 0.801143\n",
      "[90]\tvalid_0's auc: 0.80099\n",
      "[91]\tvalid_0's auc: 0.801829\n",
      "[92]\tvalid_0's auc: 0.802438\n",
      "[93]\tvalid_0's auc: 0.801905\n",
      "[94]\tvalid_0's auc: 0.801371\n",
      "[95]\tvalid_0's auc: 0.799924\n",
      "[96]\tvalid_0's auc: 0.799543\n",
      "[97]\tvalid_0's auc: 0.800457\n",
      "[98]\tvalid_0's auc: 0.799848\n",
      "[99]\tvalid_0's auc: 0.798629\n",
      "[100]\tvalid_0's auc: 0.8\n",
      "[101]\tvalid_0's auc: 0.799619\n",
      "[102]\tvalid_0's auc: 0.799619\n",
      "[103]\tvalid_0's auc: 0.79901\n",
      "[104]\tvalid_0's auc: 0.797714\n",
      "[105]\tvalid_0's auc: 0.799543\n",
      "[106]\tvalid_0's auc: 0.797714\n",
      "[107]\tvalid_0's auc: 0.797105\n",
      "[108]\tvalid_0's auc: 0.796114\n",
      "[109]\tvalid_0's auc: 0.796876\n",
      "[110]\tvalid_0's auc: 0.797638\n",
      "[111]\tvalid_0's auc: 0.796876\n",
      "[112]\tvalid_0's auc: 0.796952\n",
      "[113]\tvalid_0's auc: 0.796267\n",
      "[114]\tvalid_0's auc: 0.795505\n",
      "[115]\tvalid_0's auc: 0.795886\n",
      "[116]\tvalid_0's auc: 0.796038\n",
      "[117]\tvalid_0's auc: 0.795962\n",
      "[118]\tvalid_0's auc: 0.797105\n",
      "[119]\tvalid_0's auc: 0.797181\n",
      "[120]\tvalid_0's auc: 0.797943\n",
      "[121]\tvalid_0's auc: 0.796648\n",
      "[122]\tvalid_0's auc: 0.798857\n",
      "[123]\tvalid_0's auc: 0.800305\n",
      "[124]\tvalid_0's auc: 0.801448\n",
      "[125]\tvalid_0's auc: 0.80259\n",
      "[126]\tvalid_0's auc: 0.800838\n",
      "[127]\tvalid_0's auc: 0.801676\n",
      "[128]\tvalid_0's auc: 0.802438\n",
      "[129]\tvalid_0's auc: 0.803276\n",
      "[130]\tvalid_0's auc: 0.803962\n",
      "[131]\tvalid_0's auc: 0.805105\n",
      "[132]\tvalid_0's auc: 0.804571\n",
      "[133]\tvalid_0's auc: 0.80541\n",
      "[134]\tvalid_0's auc: 0.805029\n",
      "[135]\tvalid_0's auc: 0.806171\n",
      "[136]\tvalid_0's auc: 0.804952\n",
      "[137]\tvalid_0's auc: 0.807771\n",
      "[138]\tvalid_0's auc: 0.806629\n",
      "[139]\tvalid_0's auc: 0.806705\n",
      "[140]\tvalid_0's auc: 0.805714\n",
      "[141]\tvalid_0's auc: 0.805867\n",
      "[142]\tvalid_0's auc: 0.804267\n",
      "[143]\tvalid_0's auc: 0.803505\n",
      "[144]\tvalid_0's auc: 0.801981\n",
      "[145]\tvalid_0's auc: 0.8032\n",
      "[146]\tvalid_0's auc: 0.801829\n",
      "[147]\tvalid_0's auc: 0.801524\n",
      "[148]\tvalid_0's auc: 0.801524\n",
      "[149]\tvalid_0's auc: 0.801752\n",
      "[150]\tvalid_0's auc: 0.802057\n",
      "[151]\tvalid_0's auc: 0.802438\n",
      "[152]\tvalid_0's auc: 0.80221\n",
      "[153]\tvalid_0's auc: 0.800305\n",
      "[154]\tvalid_0's auc: 0.800838\n",
      "[155]\tvalid_0's auc: 0.799848\n",
      "[156]\tvalid_0's auc: 0.798629\n",
      "[157]\tvalid_0's auc: 0.79939\n",
      "[158]\tvalid_0's auc: 0.799771\n",
      "[159]\tvalid_0's auc: 0.799771\n",
      "[160]\tvalid_0's auc: 0.8\n",
      "[161]\tvalid_0's auc: 0.79901\n",
      "Early stopping, best iteration is:\n",
      "[61]\tvalid_0's auc: 0.811048\n"
     ]
    }
   ],
   "source": [
    "np.random.seed(42)\n",
    "train_data = lgb.Dataset(x_train, label=y_train)\n",
    "test_data = lgb.Dataset(x_test, label=y_test)\n",
    "\n",
    "parameters = {\n",
    "        'application': 'binary',\n",
    "        'objective': 'binary',\n",
    "        'metric': 'auc',\n",
    "        'is_unbalance': 'true',\n",
    "        'boosting': 'gbdt',\n",
    "        'num_leaves': 31,\n",
    "        'feature_fraction': 0.5,\n",
    "        'bagging_fraction': 0.5,\n",
    "        'bagging_freq': 20,\n",
    "        'learning_rate': 0.05,\n",
    "        'verbose': 0\n",
    "}\n",
    "\n",
    "lgb_model = lgb.train(parameters,\n",
    "                           train_data,\n",
    "                           valid_sets=test_data,\n",
    "                           num_boost_round=5000,\n",
    "                           early_stopping_rounds=100)"
   ]
  },
  {
   "cell_type": "code",
   "execution_count": 228,
   "metadata": {
    "collapsed": true
   },
   "outputs": [
    {
     "data": {
      "text/plain": [
       "array([0.73672241, 0.10206547, 0.13792675, 0.37109607, 0.31594598,\n",
       "       0.62834555, 0.48190296, 0.82199085, 0.18769573, 0.40960829,\n",
       "       0.19451499, 0.2252872 , 0.74700976, 0.66907954, 0.80356982,\n",
       "       0.21103454, 0.47106518, 0.79445115, 0.56560076, 0.24153328,\n",
       "       0.79078361, 0.06770179, 0.75084096, 0.23679056, 0.39359045,\n",
       "       0.56477367, 0.17181013, 0.70489048, 0.77217944, 0.34109945,\n",
       "       0.42256787, 0.30911828, 0.29925131, 0.59461588, 0.21771415,\n",
       "       0.40659097, 0.24494424, 0.28521574, 0.11952574, 0.84629622,\n",
       "       0.07025587, 0.36065545, 0.80257671, 0.68821656, 0.55970854,\n",
       "       0.37507096, 0.19954464, 0.87122561, 0.53126872, 0.68837432,\n",
       "       0.17296249, 0.87242748, 0.64433643, 0.64627546, 0.70165627,\n",
       "       0.24699489, 0.6049088 , 0.55124246, 0.58772007, 0.37409598,\n",
       "       0.16806433, 0.59323725, 0.61717154, 0.63314479, 0.55219152,\n",
       "       0.14305841, 0.25023585, 0.24768719, 0.07872482, 0.29621863,\n",
       "       0.84738838, 0.08287122, 0.16812539, 0.35057756, 0.32888668,\n",
       "       0.37986466, 0.75871367, 0.21722993, 0.50424014, 0.64964553,\n",
       "       0.24367576, 0.10002579, 0.73886229, 0.26693144, 0.23223686,\n",
       "       0.19416631, 0.5063647 , 0.33316258, 0.18101024, 0.35940644,\n",
       "       0.06972815, 0.1521123 , 0.41534355, 0.0935237 , 0.73822579,\n",
       "       0.32527864, 0.19375364, 0.68379766, 0.18352618, 0.43593773,\n",
       "       0.64389768, 0.50369208, 0.70852017, 0.10836721, 0.50881558,\n",
       "       0.52428693, 0.62298939, 0.32164853, 0.44608886, 0.68638627,\n",
       "       0.29962752, 0.77414893, 0.05272271, 0.43180927, 0.24456568,\n",
       "       0.05218183, 0.06466483, 0.21219766, 0.51687284, 0.32022889,\n",
       "       0.65438132, 0.54327395, 0.21821933, 0.05403785, 0.10772086,\n",
       "       0.08354352, 0.51354246, 0.39236415, 0.34805175, 0.58827541,\n",
       "       0.24149293, 0.50073698, 0.74450457, 0.41423319, 0.17645233,\n",
       "       0.4493801 , 0.12600041, 0.16377944, 0.17361325, 0.40642108,\n",
       "       0.25361077, 0.26152394, 0.72165482, 0.12108546, 0.18789594,\n",
       "       0.09451265, 0.30480097, 0.72491906, 0.75445143, 0.34471856,\n",
       "       0.48203624, 0.10945337, 0.78499906, 0.74103509, 0.28299093,\n",
       "       0.50165493, 0.09436164, 0.55910906, 0.09073411, 0.72860789,\n",
       "       0.61799601, 0.53336118, 0.05934795, 0.83187952, 0.19933772,\n",
       "       0.254448  , 0.69449418, 0.2748756 , 0.53483283, 0.04445996,\n",
       "       0.48771205, 0.43227558, 0.11770169, 0.04789458, 0.26394476,\n",
       "       0.62995152, 0.11466359, 0.28455776, 0.53432943, 0.54489364,\n",
       "       0.07215816, 0.73793475, 0.23310981, 0.42876736, 0.64460714,\n",
       "       0.1158794 , 0.34540934, 0.71538504, 0.66645025, 0.86791441,\n",
       "       0.1466785 , 0.14862776, 0.09489037, 0.561638  , 0.31657579,\n",
       "       0.60549474, 0.18889671, 0.69410001, 0.55002958, 0.26039957,\n",
       "       0.45511856, 0.63243293, 0.78539406, 0.22219354, 0.65256158,\n",
       "       0.56493189, 0.0747343 , 0.57207297, 0.08522817, 0.52812529,\n",
       "       0.39204294, 0.6076707 , 0.73450037, 0.58224445, 0.7748662 ,\n",
       "       0.44491887, 0.43479946, 0.32822083, 0.73193231, 0.49472087,\n",
       "       0.17020067, 0.64833319, 0.46695406, 0.73444013, 0.58102499,\n",
       "       0.73935558, 0.37077224, 0.08415139, 0.56773468, 0.44398425,\n",
       "       0.54952442, 0.32855308, 0.71956555, 0.58321944, 0.28120974,\n",
       "       0.34543782, 0.56851409, 0.12991422, 0.83124022, 0.30272312,\n",
       "       0.08289957, 0.61155946, 0.09486594, 0.14241453, 0.37244725,\n",
       "       0.59893221, 0.1138974 , 0.30484729, 0.22563809, 0.57878775])"
      ]
     },
     "execution_count": 228,
     "metadata": {},
     "output_type": "execute_result"
    }
   ],
   "source": [
    "lgb_model.predict(x_test)"
   ]
  },
  {
   "cell_type": "code",
   "execution_count": 235,
   "metadata": {},
   "outputs": [
    {
     "name": "stdout",
     "output_type": "stream",
     "text": [
      "AUC Train : 0.895525925925926\n",
      "AUC Test : 0.811047619047619\n"
     ]
    }
   ],
   "source": [
    "print(\"AUC Train : {}\".format(metrics.roc_auc_score(y_train,lgb_model.predict(x_train))))\n",
    "print(\"AUC Test : {}\".format(metrics.roc_auc_score(y_test,lgb_model.predict(x_test))))"
   ]
  },
  {
   "cell_type": "code",
   "execution_count": null,
   "metadata": {},
   "outputs": [],
   "source": []
  },
  {
   "cell_type": "code",
   "execution_count": null,
   "metadata": {},
   "outputs": [],
   "source": []
  },
  {
   "cell_type": "code",
   "execution_count": null,
   "metadata": {},
   "outputs": [],
   "source": []
  }
 ],
 "metadata": {
  "kernelspec": {
   "display_name": "Python 3",
   "language": "python",
   "name": "python3"
  },
  "language_info": {
   "codemirror_mode": {
    "name": "ipython",
    "version": 3
   },
   "file_extension": ".py",
   "mimetype": "text/x-python",
   "name": "python",
   "nbconvert_exporter": "python",
   "pygments_lexer": "ipython3",
   "version": "3.7.3"
  }
 },
 "nbformat": 4,
 "nbformat_minor": 2
}
