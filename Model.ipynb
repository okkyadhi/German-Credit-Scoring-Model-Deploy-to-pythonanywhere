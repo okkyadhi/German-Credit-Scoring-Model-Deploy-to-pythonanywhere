{
 "cells": [
  {
   "cell_type": "markdown",
   "metadata": {},
   "source": [
    "# German Credit Score"
   ]
  },
  {
   "cell_type": "code",
   "execution_count": 405,
   "metadata": {},
   "outputs": [],
   "source": [
    "import pandas as pd\n",
    "import sklearn.preprocessing as preprocessing\n",
    "import numpy  as np\n",
    "from sklearn.linear_model import LogisticRegression\n",
    "from sklearn.preprocessing import OneHotEncoder\n",
    "from sklearn.model_selection import train_test_split\n",
    "from sklearn.metrics import auc, confusion_matrix\n",
    "from sklearn import metrics\n",
    "from lightgbm import LGBMRegressor as lgb\n",
    "from sklearn.model_selection import GridSearchCV\n",
    "from sklearn import datasets\n",
    "from lightgbm import Dataset"
   ]
  },
  {
   "cell_type": "code",
   "execution_count": 406,
   "metadata": {},
   "outputs": [],
   "source": [
    "df_raw = pd.read_csv('german_credit.csv')"
   ]
  },
  {
   "cell_type": "code",
   "execution_count": 407,
   "metadata": {},
   "outputs": [],
   "source": [
    "def age_group(age):\n",
    "    if age < 20:\n",
    "        return 'Teenager'\n",
    "    if age < 35:\n",
    "        return 'Productive'\n",
    "    if age < 50:\n",
    "        return 'Mature'\n",
    "    else :\n",
    "         return 'Old'"
   ]
  },
  {
   "cell_type": "code",
   "execution_count": 408,
   "metadata": {},
   "outputs": [],
   "source": [
    "df_raw['credit_per_person'] = df_raw['credit_amount']/df_raw['people_under_maintenance']\n",
    "df_raw['age_group'] = df_raw['age'].apply(age_group)"
   ]
  },
  {
   "cell_type": "code",
   "execution_count": 409,
   "metadata": {},
   "outputs": [],
   "source": [
    "# Create x, where x the 'scores' column's values as floats\n",
    "x = df_raw[['credit_amount']].values.astype(float)\n",
    "\n",
    "# Create a minimum and maximum processor object\n",
    "min_max_scaler = preprocessing.MinMaxScaler()\n",
    "\n",
    "# Create an object to transform the data to fit minmax processor\n",
    "x_scaled = min_max_scaler.fit_transform(x)\n",
    "\n",
    "# Run the normalizer on the dataframe\n",
    "df_raw['credit_amount_norm'] = pd.DataFrame(x_scaled)\n",
    "df_raw['age_norm']= pd.DataFrame(min_max_scaler.fit_transform(df_raw[['age']].values.astype(float)))\n",
    "df_raw['duration_in_month']= pd.DataFrame(min_max_scaler.fit_transform(df_raw[['duration_in_month']].values.astype(float)))"
   ]
  },
  {
   "cell_type": "code",
   "execution_count": 410,
   "metadata": {},
   "outputs": [
    {
     "data": {
      "text/plain": [
       "0    0.050567\n",
       "1    0.313690\n",
       "Name: credit_amount_norm, dtype: float64"
      ]
     },
     "execution_count": 410,
     "metadata": {},
     "output_type": "execute_result"
    }
   ],
   "source": [
    "df_raw['credit_amount_norm'].head(2)"
   ]
  },
  {
   "cell_type": "code",
   "execution_count": 411,
   "metadata": {},
   "outputs": [],
   "source": [
    "numeric_data = df.select_dtypes(include=[np.number]).columns"
   ]
  },
  {
   "cell_type": "code",
   "execution_count": 412,
   "metadata": {},
   "outputs": [
    {
     "data": {
      "text/html": [
       "<div>\n",
       "<style scoped>\n",
       "    .dataframe tbody tr th:only-of-type {\n",
       "        vertical-align: middle;\n",
       "    }\n",
       "\n",
       "    .dataframe tbody tr th {\n",
       "        vertical-align: top;\n",
       "    }\n",
       "\n",
       "    .dataframe thead th {\n",
       "        text-align: right;\n",
       "    }\n",
       "</style>\n",
       "<table border=\"1\" class=\"dataframe\">\n",
       "  <thead>\n",
       "    <tr style=\"text-align: right;\">\n",
       "      <th></th>\n",
       "      <th>default</th>\n",
       "      <th>duration_in_month</th>\n",
       "      <th>credit_amount</th>\n",
       "      <th>installment_as_income_perc</th>\n",
       "      <th>present_res_since</th>\n",
       "      <th>age</th>\n",
       "      <th>credits_this_bank</th>\n",
       "      <th>people_under_maintenance</th>\n",
       "    </tr>\n",
       "  </thead>\n",
       "  <tbody>\n",
       "    <tr>\n",
       "      <th>0</th>\n",
       "      <td>0</td>\n",
       "      <td>0.029412</td>\n",
       "      <td>1169</td>\n",
       "      <td>4</td>\n",
       "      <td>4</td>\n",
       "      <td>67</td>\n",
       "      <td>2</td>\n",
       "      <td>1</td>\n",
       "    </tr>\n",
       "    <tr>\n",
       "      <th>1</th>\n",
       "      <td>1</td>\n",
       "      <td>0.647059</td>\n",
       "      <td>5951</td>\n",
       "      <td>2</td>\n",
       "      <td>2</td>\n",
       "      <td>22</td>\n",
       "      <td>1</td>\n",
       "      <td>1</td>\n",
       "    </tr>\n",
       "    <tr>\n",
       "      <th>2</th>\n",
       "      <td>0</td>\n",
       "      <td>0.117647</td>\n",
       "      <td>2096</td>\n",
       "      <td>2</td>\n",
       "      <td>3</td>\n",
       "      <td>49</td>\n",
       "      <td>1</td>\n",
       "      <td>2</td>\n",
       "    </tr>\n",
       "    <tr>\n",
       "      <th>3</th>\n",
       "      <td>0</td>\n",
       "      <td>0.558824</td>\n",
       "      <td>7882</td>\n",
       "      <td>2</td>\n",
       "      <td>4</td>\n",
       "      <td>45</td>\n",
       "      <td>1</td>\n",
       "      <td>2</td>\n",
       "    </tr>\n",
       "    <tr>\n",
       "      <th>4</th>\n",
       "      <td>1</td>\n",
       "      <td>0.294118</td>\n",
       "      <td>4870</td>\n",
       "      <td>3</td>\n",
       "      <td>4</td>\n",
       "      <td>53</td>\n",
       "      <td>2</td>\n",
       "      <td>2</td>\n",
       "    </tr>\n",
       "  </tbody>\n",
       "</table>\n",
       "</div>"
      ],
      "text/plain": [
       "   default  duration_in_month  credit_amount  installment_as_income_perc  \\\n",
       "0        0           0.029412           1169                           4   \n",
       "1        1           0.647059           5951                           2   \n",
       "2        0           0.117647           2096                           2   \n",
       "3        0           0.558824           7882                           2   \n",
       "4        1           0.294118           4870                           3   \n",
       "\n",
       "   present_res_since  age  credits_this_bank  people_under_maintenance  \n",
       "0                  4   67                  2                         1  \n",
       "1                  2   22                  1                         1  \n",
       "2                  3   49                  1                         2  \n",
       "3                  4   45                  1                         2  \n",
       "4                  4   53                  2                         2  "
      ]
     },
     "execution_count": 412,
     "metadata": {},
     "output_type": "execute_result"
    }
   ],
   "source": [
    "df_raw[numeric_data].head()"
   ]
  },
  {
   "cell_type": "code",
   "execution_count": 413,
   "metadata": {},
   "outputs": [],
   "source": [
    "df_prepare = df_raw\n",
    "\n",
    "target = df_prepare['default']\n",
    "temp = df_prepare.drop(['default','age','installment_as_income_perc','personal_status_sex','telephone'],axis=1)"
   ]
  },
  {
   "cell_type": "code",
   "execution_count": 414,
   "metadata": {},
   "outputs": [],
   "source": [
    "dataset_dummies = temp.select_dtypes(exclude=['int','int64','float64'])\n",
    "dataset_int = temp.select_dtypes(include = ['int','int64','float64'] )\n",
    "\n",
    "\n",
    "dataset_dummies_2 = pd.get_dummies(dataset_dummies, drop_first=True)\n",
    "df_model = pd.concat([dataset_int,dataset_dummies_2,target], axis = 1 )\n",
    "\n",
    "x = df_model.iloc[:,0:len(df_model.columns)-1]\n",
    "y = df_model.iloc[:,len(df_model.columns)-1]\n",
    "\n",
    "\n",
    "x_train, x_test, y_train, y_test = train_test_split(x,y,test_size=0.25, random_state = 42,stratify=y)\n",
    "\n"
   ]
  },
  {
   "cell_type": "code",
   "execution_count": 415,
   "metadata": {},
   "outputs": [],
   "source": [
    "# Logistic_regression = LogisticRegression()\n",
    "# Logistic_regression.fit(x_train,y_train)\n",
    "\n",
    "# y_pred_train = Logistic_regression.predict(x_train)\n",
    "# y_pred_test = Logistic_regression.predict(x_test)\n"
   ]
  },
  {
   "cell_type": "code",
   "execution_count": 416,
   "metadata": {},
   "outputs": [],
   "source": [
    "# fpr_train, tpr_train, threshold = metrics.roc_curve(y_train,y_pred_train)\n",
    "# fpr_test, tpr_test, threshold = metrics.roc_curve(y_test,y_pred_test)"
   ]
  },
  {
   "cell_type": "code",
   "execution_count": 417,
   "metadata": {},
   "outputs": [],
   "source": [
    "# print('AUC train = {} '.format(metrics.auc(fpr_train,tpr_train)))\n",
    "# print('AUC train = {} '.format(metrics.auc(fpr_test,tpr_test)))"
   ]
  },
  {
   "cell_type": "code",
   "execution_count": 418,
   "metadata": {},
   "outputs": [],
   "source": [
    "import lightgbm as lgb"
   ]
  },
  {
   "cell_type": "code",
   "execution_count": 437,
   "metadata": {},
   "outputs": [
    {
     "name": "stdout",
     "output_type": "stream",
     "text": [
      "[1]\tvalid_0's binary_logloss: 0.589516\n",
      "Training until validation scores don't improve for 100 rounds\n",
      "[2]\tvalid_0's binary_logloss: 0.574456\n",
      "[3]\tvalid_0's binary_logloss: 0.563965\n",
      "[4]\tvalid_0's binary_logloss: 0.556608\n",
      "[5]\tvalid_0's binary_logloss: 0.546945\n",
      "[6]\tvalid_0's binary_logloss: 0.540002\n",
      "[7]\tvalid_0's binary_logloss: 0.534554\n",
      "[8]\tvalid_0's binary_logloss: 0.527825\n",
      "[9]\tvalid_0's binary_logloss: 0.524085\n",
      "[10]\tvalid_0's binary_logloss: 0.518984\n",
      "[11]\tvalid_0's binary_logloss: 0.514458\n",
      "[12]\tvalid_0's binary_logloss: 0.511866\n",
      "[13]\tvalid_0's binary_logloss: 0.510332\n",
      "[14]\tvalid_0's binary_logloss: 0.508028\n",
      "[15]\tvalid_0's binary_logloss: 0.505226\n",
      "[16]\tvalid_0's binary_logloss: 0.504503\n",
      "[17]\tvalid_0's binary_logloss: 0.501054\n",
      "[18]\tvalid_0's binary_logloss: 0.499007\n",
      "[19]\tvalid_0's binary_logloss: 0.496053\n",
      "[20]\tvalid_0's binary_logloss: 0.492248\n",
      "[21]\tvalid_0's binary_logloss: 0.48934\n",
      "[22]\tvalid_0's binary_logloss: 0.487261\n",
      "[23]\tvalid_0's binary_logloss: 0.485397\n",
      "[24]\tvalid_0's binary_logloss: 0.484064\n",
      "[25]\tvalid_0's binary_logloss: 0.481089\n",
      "[26]\tvalid_0's binary_logloss: 0.482492\n",
      "[27]\tvalid_0's binary_logloss: 0.482853\n",
      "[28]\tvalid_0's binary_logloss: 0.481487\n",
      "[29]\tvalid_0's binary_logloss: 0.476971\n",
      "[30]\tvalid_0's binary_logloss: 0.47987\n",
      "[31]\tvalid_0's binary_logloss: 0.480683\n",
      "[32]\tvalid_0's binary_logloss: 0.481423\n",
      "[33]\tvalid_0's binary_logloss: 0.481648\n",
      "[34]\tvalid_0's binary_logloss: 0.484383\n",
      "[35]\tvalid_0's binary_logloss: 0.485187\n",
      "[36]\tvalid_0's binary_logloss: 0.486091\n",
      "[37]\tvalid_0's binary_logloss: 0.483365\n",
      "[38]\tvalid_0's binary_logloss: 0.486788\n",
      "[39]\tvalid_0's binary_logloss: 0.488563\n",
      "[40]\tvalid_0's binary_logloss: 0.491145\n",
      "[41]\tvalid_0's binary_logloss: 0.491896\n",
      "[42]\tvalid_0's binary_logloss: 0.49446\n",
      "[43]\tvalid_0's binary_logloss: 0.496201\n",
      "[44]\tvalid_0's binary_logloss: 0.494976\n",
      "[45]\tvalid_0's binary_logloss: 0.496905\n",
      "[46]\tvalid_0's binary_logloss: 0.495209\n",
      "[47]\tvalid_0's binary_logloss: 0.497515\n",
      "[48]\tvalid_0's binary_logloss: 0.49626\n",
      "[49]\tvalid_0's binary_logloss: 0.498249\n",
      "[50]\tvalid_0's binary_logloss: 0.500259\n",
      "[51]\tvalid_0's binary_logloss: 0.498977\n",
      "[52]\tvalid_0's binary_logloss: 0.497635\n",
      "[53]\tvalid_0's binary_logloss: 0.500121\n",
      "[54]\tvalid_0's binary_logloss: 0.500827\n",
      "[55]\tvalid_0's binary_logloss: 0.503375\n",
      "[56]\tvalid_0's binary_logloss: 0.50329\n",
      "[57]\tvalid_0's binary_logloss: 0.506238\n",
      "[58]\tvalid_0's binary_logloss: 0.50886\n",
      "[59]\tvalid_0's binary_logloss: 0.507956\n",
      "[60]\tvalid_0's binary_logloss: 0.510554\n",
      "[61]\tvalid_0's binary_logloss: 0.511384\n",
      "[62]\tvalid_0's binary_logloss: 0.514357\n",
      "[63]\tvalid_0's binary_logloss: 0.515818\n",
      "[64]\tvalid_0's binary_logloss: 0.515094\n",
      "[65]\tvalid_0's binary_logloss: 0.518682\n",
      "[66]\tvalid_0's binary_logloss: 0.519779\n",
      "[67]\tvalid_0's binary_logloss: 0.522423\n",
      "[68]\tvalid_0's binary_logloss: 0.522559\n",
      "[69]\tvalid_0's binary_logloss: 0.522488\n",
      "[70]\tvalid_0's binary_logloss: 0.522591\n",
      "[71]\tvalid_0's binary_logloss: 0.521351\n",
      "[72]\tvalid_0's binary_logloss: 0.523519\n",
      "[73]\tvalid_0's binary_logloss: 0.523812\n",
      "[74]\tvalid_0's binary_logloss: 0.520991\n",
      "[75]\tvalid_0's binary_logloss: 0.52308\n",
      "[76]\tvalid_0's binary_logloss: 0.520428\n",
      "[77]\tvalid_0's binary_logloss: 0.52195\n",
      "[78]\tvalid_0's binary_logloss: 0.522438\n",
      "[79]\tvalid_0's binary_logloss: 0.524456\n",
      "[80]\tvalid_0's binary_logloss: 0.526216\n",
      "[81]\tvalid_0's binary_logloss: 0.526723\n",
      "[82]\tvalid_0's binary_logloss: 0.528276\n",
      "[83]\tvalid_0's binary_logloss: 0.528506\n",
      "[84]\tvalid_0's binary_logloss: 0.530422\n",
      "[85]\tvalid_0's binary_logloss: 0.532993\n",
      "[86]\tvalid_0's binary_logloss: 0.534963\n",
      "[87]\tvalid_0's binary_logloss: 0.537815\n",
      "[88]\tvalid_0's binary_logloss: 0.541211\n",
      "[89]\tvalid_0's binary_logloss: 0.540216\n",
      "[90]\tvalid_0's binary_logloss: 0.538435\n",
      "[91]\tvalid_0's binary_logloss: 0.538185\n",
      "[92]\tvalid_0's binary_logloss: 0.537051\n",
      "[93]\tvalid_0's binary_logloss: 0.538862\n",
      "[94]\tvalid_0's binary_logloss: 0.539695\n",
      "[95]\tvalid_0's binary_logloss: 0.540596\n",
      "[96]\tvalid_0's binary_logloss: 0.540992\n",
      "[97]\tvalid_0's binary_logloss: 0.541759\n",
      "[98]\tvalid_0's binary_logloss: 0.540998\n",
      "[99]\tvalid_0's binary_logloss: 0.543089\n",
      "[100]\tvalid_0's binary_logloss: 0.544379\n",
      "[101]\tvalid_0's binary_logloss: 0.546322\n",
      "[102]\tvalid_0's binary_logloss: 0.547461\n",
      "[103]\tvalid_0's binary_logloss: 0.548228\n",
      "[104]\tvalid_0's binary_logloss: 0.549619\n",
      "[105]\tvalid_0's binary_logloss: 0.552881\n",
      "[106]\tvalid_0's binary_logloss: 0.553449\n",
      "[107]\tvalid_0's binary_logloss: 0.553415\n",
      "[108]\tvalid_0's binary_logloss: 0.551626\n",
      "[109]\tvalid_0's binary_logloss: 0.553112\n",
      "[110]\tvalid_0's binary_logloss: 0.554861\n",
      "[111]\tvalid_0's binary_logloss: 0.556307\n",
      "[112]\tvalid_0's binary_logloss: 0.55876\n",
      "[113]\tvalid_0's binary_logloss: 0.559213\n",
      "[114]\tvalid_0's binary_logloss: 0.561164\n",
      "[115]\tvalid_0's binary_logloss: 0.563404\n",
      "[116]\tvalid_0's binary_logloss: 0.56427\n",
      "[117]\tvalid_0's binary_logloss: 0.568297\n",
      "[118]\tvalid_0's binary_logloss: 0.568516\n",
      "[119]\tvalid_0's binary_logloss: 0.57\n",
      "[120]\tvalid_0's binary_logloss: 0.570915\n",
      "[121]\tvalid_0's binary_logloss: 0.573242\n",
      "[122]\tvalid_0's binary_logloss: 0.57525\n",
      "[123]\tvalid_0's binary_logloss: 0.576833\n",
      "[124]\tvalid_0's binary_logloss: 0.579\n",
      "[125]\tvalid_0's binary_logloss: 0.581661\n",
      "[126]\tvalid_0's binary_logloss: 0.583234\n",
      "[127]\tvalid_0's binary_logloss: 0.584622\n",
      "[128]\tvalid_0's binary_logloss: 0.587846\n",
      "[129]\tvalid_0's binary_logloss: 0.590442\n",
      "Early stopping, best iteration is:\n",
      "[29]\tvalid_0's binary_logloss: 0.476971\n"
     ]
    }
   ],
   "source": [
    "np.random.seed(42)\n",
    "train_data = lgb.Dataset(x_train, label=y_train)\n",
    "test_data = lgb.Dataset(x_test, label=y_test)\n",
    "\n",
    "parameters = {\n",
    "        'application': 'binary',\n",
    "        'objective': 'binary',\n",
    "#         'metric': 'auc',\n",
    "#         'is_unbalance': 'true',\n",
    "#         'boosting': 'gbdt',\n",
    "#         'num_leaves': 31,\n",
    "#         'feature_fraction': 0.5,\n",
    "#         'bagging_fraction': 0.5,\n",
    "#         'bagging_freq': 20,\n",
    "#         'learning_rate': 0.05,\n",
    "#         'verbose': 0\n",
    "}\n",
    "\n",
    "lgb_model = lgb.train(parameters,\n",
    "                           train_data,\n",
    "                           valid_sets=test_data,\n",
    "                           num_boost_round=5000,\n",
    "                           early_stopping_rounds=100,)"
   ]
  },
  {
   "cell_type": "code",
   "execution_count": 441,
   "metadata": {
    "scrolled": true
   },
   "outputs": [
    {
     "data": {
      "text/plain": [
       "array([0.82390337, 0.0456382 , 0.06807897, 0.1210668 , 0.06797202,\n",
       "       0.61632445, 0.31558322, 0.71536904, 0.05916233, 0.40969789,\n",
       "       0.08922149, 0.18118821, 0.49048458, 0.39062195, 0.66754465,\n",
       "       0.09609829, 0.34053226, 0.58244136, 0.33476436, 0.13643635,\n",
       "       0.6138181 , 0.02118807, 0.6177013 , 0.23123042, 0.09530238,\n",
       "       0.17420204, 0.27416596, 0.76143911, 0.84522104, 0.04768855,\n",
       "       0.33069857, 0.06665556, 0.13439864, 0.48425927, 0.10700956,\n",
       "       0.19261631, 0.17336717, 0.17664356, 0.07367127, 0.55423196,\n",
       "       0.07579877, 0.42543038, 0.33338217, 0.55265764, 0.20233679,\n",
       "       0.20666201, 0.05469338, 0.68067575, 0.38187011, 0.76255834,\n",
       "       0.07426612, 0.85258775, 0.6988466 , 0.39100406, 0.28011678,\n",
       "       0.12827294, 0.53852012, 0.34038283, 0.35634669, 0.11326185,\n",
       "       0.06126064, 0.16014436, 0.51751799, 0.79626156, 0.43628595,\n",
       "       0.03806304, 0.45206975, 0.42372774, 0.02844899, 0.1047379 ,\n",
       "       0.79819154, 0.01313472, 0.12109911, 0.13758535, 0.21446019,\n",
       "       0.36341335, 0.76729563, 0.09730044, 0.11241318, 0.52827239,\n",
       "       0.26810274, 0.03668214, 0.57604163, 0.46107869, 0.08461736,\n",
       "       0.08041375, 0.43085283, 0.33644484, 0.08623785, 0.14753595,\n",
       "       0.02125779, 0.04077159, 0.30283112, 0.06211274, 0.77333014,\n",
       "       0.3037747 , 0.1246465 , 0.37477007, 0.03146488, 0.23034523,\n",
       "       0.73762214, 0.70230866, 0.7356744 , 0.04413479, 0.36640436,\n",
       "       0.19533117, 0.29350502, 0.05493951, 0.09518088, 0.4224791 ,\n",
       "       0.33090657, 0.50762195, 0.01941329, 0.16984867, 0.11348966,\n",
       "       0.02529971, 0.04599065, 0.17198451, 0.43460079, 0.19442991,\n",
       "       0.45586462, 0.51740549, 0.08210902, 0.02344353, 0.06266135,\n",
       "       0.04161915, 0.38936578, 0.1065285 , 0.19714389, 0.46823404,\n",
       "       0.06027644, 0.38158685, 0.62786551, 0.19139745, 0.12815543,\n",
       "       0.32135424, 0.07905549, 0.0463134 , 0.10014398, 0.21261159,\n",
       "       0.13051045, 0.1212142 , 0.65422944, 0.03340177, 0.08461736,\n",
       "       0.04901975, 0.28199131, 0.49109694, 0.9035993 , 0.10833111,\n",
       "       0.14806806, 0.03171019, 0.69686756, 0.56760046, 0.05656101,\n",
       "       0.30143804, 0.0299337 , 0.45034331, 0.11137445, 0.51963049,\n",
       "       0.49172707, 0.49945685, 0.01860617, 0.73051465, 0.11573519,\n",
       "       0.04932277, 0.30572756, 0.0582834 , 0.64617769, 0.04277103,\n",
       "       0.27172058, 0.13202654, 0.03892775, 0.01713449, 0.18432189,\n",
       "       0.38868404, 0.08550258, 0.2087806 , 0.28911741, 0.43110949,\n",
       "       0.03900279, 0.4750885 , 0.03807963, 0.36009616, 0.35266537,\n",
       "       0.02861146, 0.15126242, 0.6299761 , 0.68356723, 0.78802523,\n",
       "       0.04801564, 0.07683601, 0.0228628 , 0.37251771, 0.11164122,\n",
       "       0.20583397, 0.19371756, 0.6830223 , 0.20640585, 0.07648934,\n",
       "       0.30366004, 0.43963016, 0.70146428, 0.0897089 , 0.22573088,\n",
       "       0.26207897, 0.02890567, 0.21348836, 0.045504  , 0.59732488,\n",
       "       0.43833605, 0.70894395, 0.48706072, 0.50439964, 0.64258384,\n",
       "       0.18099329, 0.30548647, 0.09880595, 0.29022183, 0.28876082,\n",
       "       0.04120236, 0.5713332 , 0.29698305, 0.78515335, 0.3837564 ,\n",
       "       0.33188325, 0.17187904, 0.06335377, 0.21080707, 0.22642949,\n",
       "       0.2204948 , 0.26958653, 0.42424942, 0.39305009, 0.14096303,\n",
       "       0.09694275, 0.39985287, 0.0426457 , 0.77531193, 0.14257037,\n",
       "       0.03682258, 0.41197465, 0.03767977, 0.21263584, 0.09767894,\n",
       "       0.34724898, 0.05197323, 0.38280924, 0.10221984, 0.64939252])"
      ]
     },
     "execution_count": 441,
     "metadata": {},
     "output_type": "execute_result"
    }
   ],
   "source": [
    "lgb_model.predict(x_test)"
   ]
  },
  {
   "cell_type": "code",
   "execution_count": 442,
   "metadata": {},
   "outputs": [
    {
     "name": "stdout",
     "output_type": "stream",
     "text": [
      "AUC Train : 0.9783619047619048\n",
      "AUC Test : 0.8067047619047619\n"
     ]
    }
   ],
   "source": [
    "print(\"AUC Train : {}\".format(metrics.roc_auc_score(y_train,lgb_model.predict(x_train))))\n",
    "print(\"AUC Test : {}\".format(metrics.roc_auc_score(y_test,lgb_model.predict(x_test))))"
   ]
  },
  {
   "cell_type": "code",
   "execution_count": 443,
   "metadata": {},
   "outputs": [
    {
     "name": "stderr",
     "output_type": "stream",
     "text": [
      "C:\\Users\\okky.qomarudin\\AppData\\Local\\Continuum\\anaconda3\\lib\\site-packages\\lightgbm\\basic.py:497: UserWarning: Converting data to scipy sparse matrix.\n",
      "  warnings.warn('Converting data to scipy sparse matrix.')\n"
     ]
    },
    {
     "data": {
      "text/plain": [
       "array([0.82390337])"
      ]
     },
     "execution_count": 443,
     "metadata": {},
     "output_type": "execute_result"
    }
   ],
   "source": [
    "lgb_model.predict(x_test.iloc[0])"
   ]
  },
  {
   "cell_type": "code",
   "execution_count": 435,
   "metadata": {},
   "outputs": [],
   "source": [
    "import pickle"
   ]
  },
  {
   "cell_type": "code",
   "execution_count": 373,
   "metadata": {},
   "outputs": [],
   "source": [
    "\n",
    "# Saving model using pickle\n",
    "pickle.dump(lgb_model, open('model_lgb.pkl','wb'))\n",
    "\n"
   ]
  },
  {
   "cell_type": "code",
   "execution_count": 374,
   "metadata": {},
   "outputs": [
    {
     "name": "stdout",
     "output_type": "stream",
     "text": [
      "[0.76958709]\n"
     ]
    }
   ],
   "source": [
    "# Loading model to compare the results\n",
    "model_lgb = pickle.load( open('model_lgb.pkl','rb'))\n",
    "print(model_lgb.predict(x_test.iloc[0]))"
   ]
  }
 ],
 "metadata": {
  "kernelspec": {
   "display_name": "Python 3",
   "language": "python",
   "name": "python3"
  },
  "language_info": {
   "codemirror_mode": {
    "name": "ipython",
    "version": 3
   },
   "file_extension": ".py",
   "mimetype": "text/x-python",
   "name": "python",
   "nbconvert_exporter": "python",
   "pygments_lexer": "ipython3",
   "version": "3.7.3"
  }
 },
 "nbformat": 4,
 "nbformat_minor": 2
}